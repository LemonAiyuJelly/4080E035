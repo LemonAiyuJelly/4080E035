{
  "nbformat": 4,
  "nbformat_minor": 0,
  "metadata": {
    "colab": {
      "name": "Untitled0.ipynb",
      "provenance": [],
      "include_colab_link": true
    },
    "kernelspec": {
      "name": "python3",
      "display_name": "Python 3"
    }
  },
  "cells": [
    {
      "cell_type": "markdown",
      "metadata": {
        "id": "view-in-github",
        "colab_type": "text"
      },
      "source": [
        "<a href=\"https://colab.research.google.com/github/LemonAiyuJelly/4080E035/blob/master/Untitled0.ipynb\" target=\"_parent\"><img src=\"https://colab.research.google.com/assets/colab-badge.svg\" alt=\"Open In Colab\"/></a>"
      ]
    },
    {
      "cell_type": "code",
      "metadata": {
        "id": "IPqJpq4hcsZ1",
        "colab_type": "code",
        "colab": {
          "base_uri": "https://localhost:8080/",
          "height": 34
        },
        "outputId": "24eb3c4e-1ae0-416c-cdf6-a5b0490c2f6d"
      },
      "source": [
        "import time#導入時間\n",
        "\n",
        "date = time.localtime()#取得目前日期時間\n",
        "year = date[0]\n",
        "month = date[1]\n",
        "day = date[2]\n",
        "\n",
        "day_month=[31,28,31,30,31,30,31,31,30,31,30,31]#每個月正常的天數\n",
        "\n",
        "if year%400==0 or (year%4==0 and year%100!=0):#判斷是否為閏年\n",
        "    day_month[1]=29#潤年二月多一天\n",
        "    \n",
        "if month==1:#查看今天是今年的第幾天\n",
        "  print(day)#列印出結果\n",
        "else:\n",
        "  print(sum(day_month[:month-1])+day)"
      ],
      "execution_count": 1,
      "outputs": [
        {
          "output_type": "stream",
          "text": [
            "267\n"
          ],
          "name": "stdout"
        }
      ]
    }
  ]
}