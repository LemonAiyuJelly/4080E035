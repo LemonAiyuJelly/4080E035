{
  "nbformat": 4,
  "nbformat_minor": 0,
  "metadata": {
    "colab": {
      "name": "程式作業.ipynb",
      "provenance": [],
      "include_colab_link": true
    },
    "kernelspec": {
      "name": "python3",
      "display_name": "Python 3"
    }
  },
  "cells": [
    {
      "cell_type": "markdown",
      "metadata": {
        "id": "view-in-github",
        "colab_type": "text"
      },
      "source": [
        "<a href=\"https://colab.research.google.com/github/LemonAiyuJelly/4080E035/blob/master/%E7%A8%8B%E5%BC%8F%E4%BD%9C%E6%A5%AD.ipynb\" target=\"_parent\"><img src=\"https://colab.research.google.com/assets/colab-badge.svg\" alt=\"Open In Colab\"/></a>"
      ]
    },
    {
      "cell_type": "code",
      "metadata": {
        "id": "IPqJpq4hcsZ1",
        "colab_type": "code",
        "outputId": "24eb3c4e-1ae0-416c-cdf6-a5b0490c2f6d",
        "colab": {
          "base_uri": "https://localhost:8080/",
          "height": 34
        }
      },
      "source": [
        "import time#導入時間\n",
        "\n",
        "date = time.localtime()#取得目前日期時間\n",
        "year = date[0]\n",
        "month = date[1]\n",
        "day = date[2]\n",
        "\n",
        "day_month=[31,28,31,30,31,30,31,31,30,31,30,31]#每個月正常的天數\n",
        "\n",
        "if year%400==0 or (year%4==0 and year%100!=0):#判斷是否為閏年\n",
        "    day_month[1]=29#潤年二月多一天\n",
        "    \n",
        "if month==1:#查看今天是今年的第幾天\n",
        "  print(day)#列印出結果\n",
        "else:\n",
        "  print(sum(day_month[:month-1])+day)"
      ],
      "execution_count": 0,
      "outputs": [
        {
          "output_type": "stream",
          "text": [
            "267\n"
          ],
          "name": "stdout"
        }
      ]
    },
    {
      "cell_type": "code",
      "metadata": {
        "id": "74zSlsmkhF15",
        "colab_type": "code",
        "colab": {
          "base_uri": "https://localhost:8080/",
          "height": 52
        },
        "outputId": "2bb11d57-0ab3-4c07-d3ad-74e87d7a6aa5"
      },
      "source": [
        "money=int(input(\"請輸入購物金額\"))#輸入購物金額\n",
        "\n",
        "if(money>=10000):#金額大於等於10000時,之下列要求篩選\n",
        "  \n",
        "  if(money>=100000):#金額大於等於100000時(打八折)\n",
        "    print(money*0.8,end=\"元\\n\")#八折\n",
        "  elif(money>=50000):#金額大於等於50000時(打八五折)\n",
        "    print(money*0.85,end=\"元\\n\")#八五折\n",
        "  elif(money>=30000):#金額大於等於30000時(打九折)\n",
        "    print(money*0.9,end=\"元\\n\")#九折\n",
        "  else:#其他大於等於10000之金額30000以下時(打九五折)\n",
        "    print(money*0.95,end=\"元\\n\")#九五折\n",
        "    \n",
        "else:#未達10000金額則未打折\n",
        "  print(money,end=\"元\\n\")#未打折"
      ],
      "execution_count": 4,
      "outputs": [
        {
          "output_type": "stream",
          "text": [
            "請輸入購物金額100000\n",
            "80000.0元\n"
          ],
          "name": "stdout"
        }
      ]
    }
  ]
}