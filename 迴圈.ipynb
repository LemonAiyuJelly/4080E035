{
  "nbformat": 4,
  "nbformat_minor": 0,
  "metadata": {
    "colab": {
      "name": "迴圈.ipynb",
      "provenance": [],
      "include_colab_link": true
    },
    "kernelspec": {
      "name": "python3",
      "display_name": "Python 3"
    }
  },
  "cells": [
    {
      "cell_type": "markdown",
      "metadata": {
        "id": "view-in-github",
        "colab_type": "text"
      },
      "source": [
        "<a href=\"https://colab.research.google.com/github/LemonAiyuJelly/4080E035/blob/master/%E8%BF%B4%E5%9C%88.ipynb\" target=\"_parent\"><img src=\"https://colab.research.google.com/assets/colab-badge.svg\" alt=\"Open In Colab\"/></a>"
      ]
    },
    {
      "cell_type": "code",
      "metadata": {
        "id": "5CjKKylNbrMO",
        "colab_type": "code",
        "colab": {
          "base_uri": "https://localhost:8080/",
          "height": 51
        },
        "outputId": "303c404f-f5e0-47ec-b167-b8a912eb5969"
      },
      "source": [
        "for name in ['Christopher', 'Susan']:\n",
        "\tprint(name)\n"
      ],
      "execution_count": 1,
      "outputs": [
        {
          "output_type": "stream",
          "text": [
            "Christopher\n",
            "Susan\n"
          ],
          "name": "stdout"
        }
      ]
    },
    {
      "cell_type": "code",
      "metadata": {
        "id": "xVxMbhjFb0ff",
        "colab_type": "code",
        "colab": {
          "base_uri": "https://localhost:8080/",
          "height": 51
        },
        "outputId": "5f868ca5-5539-431e-f1ba-6f114ef3488e"
      },
      "source": [
        "for index in range(0, 2):\n",
        "\tprint(index)\n"
      ],
      "execution_count": 2,
      "outputs": [
        {
          "output_type": "stream",
          "text": [
            "0\n",
            "1\n"
          ],
          "name": "stdout"
        }
      ]
    },
    {
      "cell_type": "code",
      "metadata": {
        "id": "yJEsplh1b2sY",
        "colab_type": "code",
        "colab": {
          "base_uri": "https://localhost:8080/",
          "height": 51
        },
        "outputId": "f801f75d-d186-487a-9438-e3716d9b645f"
      },
      "source": [
        "names = ['Christopher', 'Susan']\n",
        "index = 0\n",
        "while index < len(names):  #判斷條件\n",
        "\tprint(names[index])\n",
        "\t# Change the condition!!\n",
        "\tindex = index + 1\n"
      ],
      "execution_count": 4,
      "outputs": [
        {
          "output_type": "stream",
          "text": [
            "Christopher\n",
            "Susan\n"
          ],
          "name": "stdout"
        }
      ]
    },
    {
      "cell_type": "code",
      "metadata": {
        "id": "G3ncR8zdcnja",
        "colab_type": "code",
        "colab": {
          "base_uri": "https://localhost:8080/",
          "height": 34
        },
        "outputId": "61f56cfe-db00-432d-e3ec-609a56bfa8bc"
      },
      "source": [
        "price = 1\n",
        "if price >= 1.00:\n",
        "\ttax = .07\n",
        "\tprint(tax)\n"
      ],
      "execution_count": 18,
      "outputs": [
        {
          "output_type": "stream",
          "text": [
            "0.07\n"
          ],
          "name": "stdout"
        }
      ]
    },
    {
      "cell_type": "code",
      "metadata": {
        "id": "B-HkON_ukHXe",
        "colab_type": "code",
        "colab": {
          "base_uri": "https://localhost:8080/",
          "height": 34
        },
        "outputId": "bc18c254-0e90-46bb-beaa-8b0b9b315d71"
      },
      "source": [
        "if price >= 1.00:\n",
        "\ttax = .07\n",
        "\tprint(tax)\n",
        "else:\n",
        "\ttax = 0\n",
        "\tprint(tax)"
      ],
      "execution_count": 20,
      "outputs": [
        {
          "output_type": "stream",
          "text": [
            "0.07\n"
          ],
          "name": "stdout"
        }
      ]
    },
    {
      "cell_type": "code",
      "metadata": {
        "id": "Rv34GzLMlRGr",
        "colab_type": "code",
        "colab": {
          "base_uri": "https://localhost:8080/",
          "height": 34
        },
        "outputId": "5cc5b576-61e7-440e-9b6e-65aa35a8b185"
      },
      "source": [
        "if price >= 1.00:\n",
        "\ttax = .07\n",
        "else:\n",
        "\ttax = 0\n",
        "print(tax)\n"
      ],
      "execution_count": 21,
      "outputs": [
        {
          "output_type": "stream",
          "text": [
            "0.07\n"
          ],
          "name": "stdout"
        }
      ]
    }
  ]
}